{
 "cells": [
  {
   "cell_type": "code",
   "execution_count": 1,
   "id": "10459e23",
   "metadata": {
    "collapsed": true
   },
   "outputs": [
    {
     "name": "stdout",
     "output_type": "stream",
     "text": [
      "<class 'str'>\n",
      "\n",
      "X: 1\n",
      "T: Cooley's\n",
      "M: 4/4\n",
      "R: reel\n",
      "K: Emin\n",
      "|:D2|EB{c}BA B2 EB|~B2 AB dBAG|FDAD BDAD|FDAD dAFD|\n",
      "eB B2 eBgB|eB B2 defg|afe^c dBAF|DEFD E2:|\n",
      "\n"
     ]
    }
   ],
   "source": [
    "a = '''\n",
    "X: 1\n",
    "T: Cooley's\n",
    "M: 4/4\n",
    "R: reel\n",
    "K: Emin\n",
    "|:D2|EB{c}BA B2 EB|~B2 AB dBAG|FDAD BDAD|FDAD dAFD|\n",
    "eB B2 eBgB|eB B2 defg|afe^c dBAF|DEFD E2:|\n",
    "'''\n",
    "\n",
    "f = open('music.abc', 'w')\n",
    "f.write(a)\n",
    "f.close()\n",
    "print(type(a))\n",
    "print(a)\n"
   ]
  },
  {
   "cell_type": "code",
   "execution_count": 2,
   "id": "d83e5d6a",
   "metadata": {
    "collapsed": true
   },
   "outputs": [
    {
     "name": "stdout",
     "output_type": "stream",
     "text": [
      "L:1/8\n",
      "X: 1\n",
      "T: Cooley's\n",
      "M: 4/4\n",
      "R: reel\n",
      "K: Emin\n",
      "|:D2|EB{c}BA B2 EB|~B2 AB dBAG|FDAD BDAD|FDAD dAFD|\n",
      "eB B2 eBgB|eB B2 defg|afe^c dBAF|DEFD E2:|\n",
      "\n"
     ]
    }
   ],
   "source": [
    "m = a.split('L:')\n",
    "#default value of node length, L must be given\n",
    "if (len(m) == 1):\n",
    "    m.insert(0,'L:1/8')\n",
    "    #print(m)\n",
    "    #print(''.join(m))\n",
    "    a = ''.join(m)\n",
    "    f = open('music.abc', 'w')\n",
    "    f.write(a)\n",
    "    f.close()\n",
    "print(a)\n"
   ]
  },
  {
   "cell_type": "code",
   "execution_count": 10,
   "id": "4beaf1d0",
   "metadata": {},
   "outputs": [
    {
     "data": {
      "text/html": [
       "\n",
       "                <div id='midiPlayerDiv4626'></div>\n",
       "                <link rel=\"stylesheet\" href=\"//cuthbertLab.github.io/music21j/css/m21.css\"\n",
       "                    type=\"text/css\" />\n",
       "                \n",
       "                <script>\n",
       "                require.config({\n",
       "                    paths: {'music21': '//cuthbertLab.github.io/music21j/src/music21'}\n",
       "                });\n",
       "                require(['music21'], function() {\n",
       "                               mp = new music21.miditools.MidiPlayer();\n",
       "                               mp.addPlayer('#midiPlayerDiv4626');\n",
       "                               mp.base64Load('data:audio/midi;base64,TVRoZAAAAAYAAQACBABNVHJrAAAAKgD/UQMHoSAA/1kCAQEA/1gEBAIYCIKAAP9ZAgEBAP9YBAQCGAiIAP8vAE1UcmsAAAQyAP8DAADgAECIAJA+WogAgD4AAJBAWoQAgEAAAJBHWoQAgEcAAIBIAACQSFoAkEdahACARwAAkEVahACARQAAkEdaiACARwAAkEBahACAQAAAkEdahACARwAAkEdaiACARwAAkEVahACARQAAkEdahACARwAAkEpahACASgAAkEdahACARwAAkEVahACARQAAkENahACAQwAAkEJahACAQgAAkD5ahACAPgAAkEVahACARQAAkD5ahACAPgAAkEdahACARwAAkD5ahACAPgAAkEVahACARQAAkD5ahACAPgAAkEJahACAQgAAkD5ahACAPgAAkEVahACARQAAkD5ahACAPgAAkEpahACASgAAkEVahACARQAAkEJahACAQgAAkD5ahACAPgAAkExahACATAAAkEdahACARwAAkEdaiACARwAAkExahACATAAAkEdahACARwAAkE9ahACATwAAkEdahACARwAAkExahACATAAAkEdahACARwAAkEdaiACARwAAkEpahACASgAAkExahACATAAAkE5ahACATgAAkE9ahACATwAAkFFahACAUQAAkE5ahACATgAAkExahACATAAAkElahACASQAAkEpahACASgAAkEdahACARwAAkEVahACARQAAkEJahACAQgAAkD5ahACAPgAAkEBahACAQAAAkEJahACAQgAAkD5ahACAPgAAkEBaiACAQAAAkD5aiACAPgAAkEBahACAQAAAkEdahACARwAAgEgAAJBIWgCQR1qEAIBHAACQRVqEAIBFAACQR1qIAIBHAACQQFqEAIBAAACQR1qEAIBHAACQR1qIAIBHAACQRVqEAIBFAACQR1qEAIBHAACQSlqEAIBKAACQR1qEAIBHAACQRVqEAIBFAACQQ1qEAIBDAACQQlqEAIBCAACQPlqEAIA+AACQRVqEAIBFAACQPlqEAIA+AACQR1qEAIBHAACQPlqEAIA+AACQRVqEAIBFAACQPlqEAIA+AACQQlqEAIBCAACQPlqEAIA+AACQRVqEAIBFAACQPlqEAIA+AACQSlqEAIBKAACQRVqEAIBFAACQQlqEAIBCAACQPlqEAIA+AACQTFqEAIBMAACQR1qEAIBHAACQR1qIAIBHAACQTFqEAIBMAACQR1qEAIBHAACQT1qEAIBPAACQR1qEAIBHAACQTFqEAIBMAACQR1qEAIBHAACQR1qIAIBHAACQSlqEAIBKAACQTFqEAIBMAACQTlqEAIBOAACQT1qEAIBPAACQUVqEAIBRAACQTlqEAIBOAACQTFqEAIBMAACQSVqEAIBJAACQSlqEAIBKAACQR1qEAIBHAACQRVqEAIBFAACQQlqEAIBCAACQPlqEAIA+AACQQFqEAIBAAACQQlqEAIBCAACQPlqEAIA+AACQQFqIAIBAAIgA/y8A');\n",
       "                        });\n",
       "                </script>"
      ],
      "text/plain": [
       "<IPython.core.display.HTML object>"
      ]
     },
     "metadata": {},
     "output_type": "display_data"
    }
   ],
   "source": [
    "from music21 import converter\n",
    "s = converter.parse('music.abc')\n",
    "s.show('midi')  # or s.write('midi', fp='output.mid')\n"
   ]
  },
  {
   "cell_type": "code",
   "execution_count": null,
   "id": "4c30ee41",
   "metadata": {},
   "outputs": [],
   "source": []
  }
 ],
 "metadata": {
  "kernelspec": {
   "display_name": "Python 3",
   "language": "python",
   "name": "python3"
  },
  "language_info": {
   "codemirror_mode": {
    "name": "ipython",
    "version": 3
   },
   "file_extension": ".py",
   "mimetype": "text/x-python",
   "name": "python",
   "nbconvert_exporter": "python",
   "pygments_lexer": "ipython3",
   "version": "3.7.4"
  }
 },
 "nbformat": 4,
 "nbformat_minor": 5
}

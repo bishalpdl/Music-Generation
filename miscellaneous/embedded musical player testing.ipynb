{
 "cells": [
  {
   "cell_type": "code",
   "execution_count": 1,
   "id": "b4390636",
   "metadata": {},
   "outputs": [],
   "source": [
    "from playsound import playsound"
   ]
  },
  {
   "cell_type": "code",
   "execution_count": 8,
   "id": "ca1c40a7",
   "metadata": {},
   "outputs": [],
   "source": [
    "#this doesn't terminate\n",
    "playsound('test.mid')"
   ]
  },
  {
   "cell_type": "code",
   "execution_count": 10,
   "id": "3c6f0691",
   "metadata": {},
   "outputs": [
    {
     "name": "stdout",
     "output_type": "stream",
     "text": [
      "press ENTER to stop playback\n"
     ]
    }
   ],
   "source": [
    "import multiprocessing\n",
    "from playsound import playsound\n",
    "\n",
    "p = multiprocessing.Process(target=playsound, args=(\"test.mid\",))\n",
    "p.start()\n",
    "input(\"press ENTER to stop playback\")\n",
    "p.terminate()"
   ]
  },
  {
   "cell_type": "code",
   "execution_count": 159,
   "id": "44c17198",
   "metadata": {},
   "outputs": [
    {
     "name": "stdout",
     "output_type": "stream",
     "text": [
      "Name: music21\n",
      "Version: 7.3.3\n",
      "Summary: A Toolkit for Computer-Aided Musical Analysis.\n",
      "Home-page: https://github.com/cuthbertLab/music21\n",
      "Author: Michael Scott Cuthbert, the music21 project, others\n",
      "Author-email: cuthbert@mit.edu\n",
      "License: BSD\n",
      "Location: c:\\users\\dell\\anaconda3\\lib\\site-packages\n",
      "Requires: joblib, matplotlib, more-itertools, jsonpickle, webcolors, chardet, numpy\n",
      "Required-by: \n",
      "Note: you may need to restart the kernel to use updated packages.\n"
     ]
    }
   ],
   "source": [
    "pip show music21"
   ]
  },
  {
   "cell_type": "code",
   "execution_count": 156,
   "id": "8d1ee2b2",
   "metadata": {},
   "outputs": [
    {
     "name": "stdout",
     "output_type": "stream",
     "text": [
      "<class 'str'>\n",
      "\n",
      "X: 1\n",
      "T: Cooley's\n",
      "M: 4/4\n",
      "R: reel\n",
      "K: Emin\n",
      "|:D2|EB{c}BA B2 EB|~B2 AB dBAG|FDAD BDAD|FDAD dAFD|\n",
      "eB B2 eBgB|eB B2 defg|afe^c dBAF|DEFD E2:|\n",
      "\n"
     ]
    }
   ],
   "source": [
    "a = '''\n",
    "X: 1\n",
    "T: Cooley's\n",
    "M: 4/4\n",
    "R: reel\n",
    "K: Emin\n",
    "|:D2|EB{c}BA B2 EB|~B2 AB dBAG|FDAD BDAD|FDAD dAFD|\n",
    "eB B2 eBgB|eB B2 defg|afe^c dBAF|DEFD E2:|\n",
    "'''\n",
    "\n",
    "f = open('music.abc', 'w')\n",
    "f.write(a)\n",
    "f.close()\n",
    "print(type(a))\n",
    "print(a)"
   ]
  },
  {
   "cell_type": "code",
   "execution_count": 157,
   "id": "0d7592b1",
   "metadata": {},
   "outputs": [
    {
     "name": "stdout",
     "output_type": "stream",
     "text": [
      "L:1/8\n",
      "X: 1\n",
      "T: Cooley's\n",
      "M: 4/4\n",
      "R: reel\n",
      "K: Emin\n",
      "|:D2|EB{c}BA B2 EB|~B2 AB dBAG|FDAD BDAD|FDAD dAFD|\n",
      "eB B2 eBgB|eB B2 defg|afe^c dBAF|DEFD E2:|\n",
      "\n"
     ]
    }
   ],
   "source": [
    "m = a.split('L:')\n",
    "#default value of node length, L must be given\n",
    "if (len(m) == 1):\n",
    "    m.insert(0,'L:1/8')\n",
    "    #print(m)\n",
    "    #print(''.join(m))\n",
    "    a = ''.join(m)\n",
    "    f = open('music.abc', 'w')\n",
    "    f.write(a)\n",
    "    f.close()\n",
    "print(a)"
   ]
  },
  {
   "cell_type": "code",
   "execution_count": 1,
   "id": "25eb2a51",
   "metadata": {},
   "outputs": [
    {
     "data": {
      "text/html": [
       "\n",
       "                <div id='midiPlayerDiv1085'></div>\n",
       "                <link rel=\"stylesheet\" href=\"//cuthbertLab.github.io/music21j/css/m21.css\"\n",
       "                    type=\"text/css\" />\n",
       "                \n",
       "                <script>\n",
       "                require.config({\n",
       "                    paths: {'music21': '//cuthbertLab.github.io/music21j/src/music21'}\n",
       "                });\n",
       "                require(['music21'], function() {\n",
       "                               mp = new music21.miditools.MidiPlayer();\n",
       "                               mp.addPlayer('#midiPlayerDiv1085');\n",
       "                               mp.base64Load('data:audio/midi;base64,TVRoZAAAAAYAAQACBABNVHJrAAAAKgD/UQMHoSAA/1kCAQEA/1gEBAIYCIKAAP9ZAgEBAP9YBAQCGAiIAP8vAE1UcmsAAAQyAP8DAADgAECIAJA+WogAgD4AAJBAWoQAgEAAAJBHWoQAgEcAAIBIAACQSFoAkEdahACARwAAkEVahACARQAAkEdaiACARwAAkEBahACAQAAAkEdahACARwAAkEdaiACARwAAkEVahACARQAAkEdahACARwAAkEpahACASgAAkEdahACARwAAkEVahACARQAAkENahACAQwAAkEJahACAQgAAkD5ahACAPgAAkEVahACARQAAkD5ahACAPgAAkEdahACARwAAkD5ahACAPgAAkEVahACARQAAkD5ahACAPgAAkEJahACAQgAAkD5ahACAPgAAkEVahACARQAAkD5ahACAPgAAkEpahACASgAAkEVahACARQAAkEJahACAQgAAkD5ahACAPgAAkExahACATAAAkEdahACARwAAkEdaiACARwAAkExahACATAAAkEdahACARwAAkE9ahACATwAAkEdahACARwAAkExahACATAAAkEdahACARwAAkEdaiACARwAAkEpahACASgAAkExahACATAAAkE5ahACATgAAkE9ahACATwAAkFFahACAUQAAkE5ahACATgAAkExahACATAAAkElahACASQAAkEpahACASgAAkEdahACARwAAkEVahACARQAAkEJahACAQgAAkD5ahACAPgAAkEBahACAQAAAkEJahACAQgAAkD5ahACAPgAAkEBaiACAQAAAkD5aiACAPgAAkEBahACAQAAAkEdahACARwAAgEgAAJBIWgCQR1qEAIBHAACQRVqEAIBFAACQR1qIAIBHAACQQFqEAIBAAACQR1qEAIBHAACQR1qIAIBHAACQRVqEAIBFAACQR1qEAIBHAACQSlqEAIBKAACQR1qEAIBHAACQRVqEAIBFAACQQ1qEAIBDAACQQlqEAIBCAACQPlqEAIA+AACQRVqEAIBFAACQPlqEAIA+AACQR1qEAIBHAACQPlqEAIA+AACQRVqEAIBFAACQPlqEAIA+AACQQlqEAIBCAACQPlqEAIA+AACQRVqEAIBFAACQPlqEAIA+AACQSlqEAIBKAACQRVqEAIBFAACQQlqEAIBCAACQPlqEAIA+AACQTFqEAIBMAACQR1qEAIBHAACQR1qIAIBHAACQTFqEAIBMAACQR1qEAIBHAACQT1qEAIBPAACQR1qEAIBHAACQTFqEAIBMAACQR1qEAIBHAACQR1qIAIBHAACQSlqEAIBKAACQTFqEAIBMAACQTlqEAIBOAACQT1qEAIBPAACQUVqEAIBRAACQTlqEAIBOAACQTFqEAIBMAACQSVqEAIBJAACQSlqEAIBKAACQR1qEAIBHAACQRVqEAIBFAACQQlqEAIBCAACQPlqEAIA+AACQQFqEAIBAAACQQlqEAIBCAACQPlqEAIA+AACQQFqIAIBAAIgA/y8A');\n",
       "                        });\n",
       "                </script>"
      ],
      "text/plain": [
       "<IPython.core.display.HTML object>"
      ]
     },
     "metadata": {},
     "output_type": "display_data"
    }
   ],
   "source": [
    "from music21 import converter\n",
    "s = converter.parse('music.abc')\n",
    "s.show('midi')  # or s.write('midi', fp='output.mid')"
   ]
  },
  {
   "cell_type": "code",
   "execution_count": 114,
   "id": "51dada33",
   "metadata": {},
   "outputs": [
    {
     "name": "stdout",
     "output_type": "stream",
     "text": [
      "Name: music21\n",
      "Version: 7.3.3\n",
      "Summary: A Toolkit for Computer-Aided Musical Analysis.\n",
      "Home-page: https://github.com/cuthbertLab/music21\n",
      "Author: Michael Scott Cuthbert, the music21 project, others\n",
      "Author-email: cuthbert@mit.edu\n",
      "License: BSD\n",
      "Location: c:\\users\\dell\\anaconda3\\lib\\site-packages\n",
      "Requires: webcolors, joblib, numpy, jsonpickle, more-itertools, matplotlib, chardet\n",
      "Required-by: \n"
     ]
    }
   ],
   "source": [
    "!pip show music21"
   ]
  },
  {
   "cell_type": "code",
   "execution_count": 121,
   "id": "eb2c9d6f",
   "metadata": {},
   "outputs": [],
   "source": [
    "m = a.split('L:')\n",
    "#default value of node length, L must be given\n",
    "if (len(m) == 1):\n",
    "    m.insert(0,'L:1/8')\n",
    "    #print(m)\n",
    "    #print(''.join(m))\n",
    "    a = ''.join(m)\n",
    "    f = open('music.abc', 'w')\n",
    "    f.write(a)\n",
    "    f.close()\n",
    "\n",
    "# print(a)"
   ]
  },
  {
   "cell_type": "code",
   "execution_count": null,
   "id": "dcec5360",
   "metadata": {},
   "outputs": [],
   "source": []
  },
  {
   "cell_type": "markdown",
   "id": "8c9a3ff7",
   "metadata": {},
   "source": [
    " "
   ]
  },
  {
   "cell_type": "code",
   "execution_count": 2,
   "id": "5db3a4db",
   "metadata": {
    "collapsed": true
   },
   "outputs": [
    {
     "ename": "NameError",
     "evalue": "name '__file__' is not defined",
     "output_type": "error",
     "traceback": [
      "\u001b[1;31m---------------------------------------------------------------------------\u001b[0m",
      "\u001b[1;31mNameError\u001b[0m                                 Traceback (most recent call last)",
      "\u001b[1;32m<ipython-input-2-2d6ac736c32e>\u001b[0m in \u001b[0;36m<module>\u001b[1;34m\u001b[0m\n\u001b[0;32m      1\u001b[0m \u001b[1;32mimport\u001b[0m \u001b[0mos\u001b[0m\u001b[1;33m\u001b[0m\u001b[1;33m\u001b[0m\u001b[0m\n\u001b[1;32m----> 2\u001b[1;33m \u001b[0maudio_file\u001b[0m \u001b[1;33m=\u001b[0m \u001b[0mos\u001b[0m\u001b[1;33m.\u001b[0m\u001b[0mpath\u001b[0m\u001b[1;33m.\u001b[0m\u001b[0mjoin\u001b[0m\u001b[1;33m(\u001b[0m\u001b[0mos\u001b[0m\u001b[1;33m.\u001b[0m\u001b[0mpath\u001b[0m\u001b[1;33m.\u001b[0m\u001b[0mdirname\u001b[0m\u001b[1;33m(\u001b[0m\u001b[0m__file__\u001b[0m\u001b[1;33m)\u001b[0m \u001b[1;33m+\u001b[0m \u001b[1;34m'a.mp3'\u001b[0m\u001b[1;33m)\u001b[0m\u001b[1;33m\u001b[0m\u001b[1;33m\u001b[0m\u001b[0m\n\u001b[0m\u001b[0;32m      3\u001b[0m \u001b[0mplaysound\u001b[0m\u001b[1;33m(\u001b[0m\u001b[0maudio_file\u001b[0m\u001b[1;33m)\u001b[0m\u001b[1;33m\u001b[0m\u001b[1;33m\u001b[0m\u001b[0m\n\u001b[0;32m      4\u001b[0m \u001b[1;33m\u001b[0m\u001b[0m\n\u001b[0;32m      5\u001b[0m \u001b[1;31m#playsound('a.mp3')\u001b[0m\u001b[1;33m\u001b[0m\u001b[1;33m\u001b[0m\u001b[1;33m\u001b[0m\u001b[0m\n",
      "\u001b[1;31mNameError\u001b[0m: name '__file__' is not defined"
     ]
    }
   ],
   "source": [
    "import os\n",
    "audio_file = os.path.join(os.path.dirname(__file__) + 'a.mp3')\n",
    "playsound(audio_file)\n",
    "\n",
    "#playsound('a.mp3')"
   ]
  },
  {
   "cell_type": "code",
   "execution_count": 3,
   "id": "aa6af3b8",
   "metadata": {},
   "outputs": [
    {
     "ename": "ModuleNotFoundError",
     "evalue": "No module named 'pyaudio'",
     "output_type": "error",
     "traceback": [
      "\u001b[1;31m---------------------------------------------------------------------------\u001b[0m",
      "\u001b[1;31mModuleNotFoundError\u001b[0m                       Traceback (most recent call last)",
      "\u001b[1;32m<ipython-input-3-11fca25557a0>\u001b[0m in \u001b[0;36m<module>\u001b[1;34m\u001b[0m\n\u001b[1;32m----> 1\u001b[1;33m \u001b[1;32mimport\u001b[0m \u001b[0mpyaudio\u001b[0m\u001b[1;33m\u001b[0m\u001b[1;33m\u001b[0m\u001b[0m\n\u001b[0m\u001b[0;32m      2\u001b[0m \u001b[1;32mimport\u001b[0m \u001b[0mwave\u001b[0m\u001b[1;33m\u001b[0m\u001b[1;33m\u001b[0m\u001b[0m\n\u001b[0;32m      3\u001b[0m \u001b[1;32mimport\u001b[0m \u001b[0mtime\u001b[0m\u001b[1;33m\u001b[0m\u001b[1;33m\u001b[0m\u001b[0m\n\u001b[0;32m      4\u001b[0m \u001b[1;32mfrom\u001b[0m \u001b[0mpynput\u001b[0m \u001b[1;32mimport\u001b[0m \u001b[0mkeyboard\u001b[0m\u001b[1;33m\u001b[0m\u001b[1;33m\u001b[0m\u001b[0m\n\u001b[0;32m      5\u001b[0m \u001b[1;33m\u001b[0m\u001b[0m\n",
      "\u001b[1;31mModuleNotFoundError\u001b[0m: No module named 'pyaudio'"
     ]
    }
   ],
   "source": [
    "import pyaudio\n",
    "import wave\n",
    "import time\n",
    "from pynput import keyboard\n",
    "\n",
    "paused = False    # global to track if the audio is paused\n",
    "def on_press(key):\n",
    "    global paused\n",
    "    print (key)\n",
    "    if key == keyboard.Key.space:\n",
    "        if stream.is_stopped():     # time to play audio\n",
    "            print ('play pressed')\n",
    "            stream.start_stream()\n",
    "            paused = False\n",
    "            return False\n",
    "        elif stream.is_active():   # time to pause audio\n",
    "            print ('pause pressed')\n",
    "            stream.stop_stream()\n",
    "            paused = True\n",
    "            return False\n",
    "    return False\n",
    "\n",
    "\n",
    "# you audio here\n",
    "wf = wave.open('audio\\\\songs\\\\And_Your_Bird_Can_Sing_mp3_2_wav.wav', 'rb')\n",
    "\n",
    "# instantiate PyAudio\n",
    "p = pyaudio.PyAudio()\n",
    "\n",
    "# define callback\n",
    "def callback(in_data, frame_count, time_info, status):\n",
    "    data = wf.readframes(frame_count)\n",
    "    return (data, pyaudio.paContinue)\n",
    "\n",
    "# open stream using callback\n",
    "stream = p.open(format=p.get_format_from_width(wf.getsampwidth()),\n",
    "                channels=wf.getnchannels(),\n",
    "                rate=wf.getframerate(),\n",
    "                output=True,\n",
    "                stream_callback=callback)\n",
    "\n",
    "# start the stream\n",
    "stream.start_stream()\n",
    "\n",
    "while stream.is_active() or paused==True:\n",
    "    with keyboard.Listener(on_press=on_press) as listener:\n",
    "        listener.join()\n",
    "    time.sleep(0.1)\n",
    "\n",
    "# stop stream\n",
    "stream.stop_stream()\n",
    "stream.close()\n",
    "wf.close()\n",
    "\n",
    "# close PyAudio\n",
    "p.terminate()\n"
   ]
  },
  {
   "cell_type": "code",
   "execution_count": null,
   "id": "e4a85f91",
   "metadata": {},
   "outputs": [],
   "source": []
  }
 ],
 "metadata": {
  "kernelspec": {
   "display_name": "Python 3",
   "language": "python",
   "name": "python3"
  },
  "language_info": {
   "codemirror_mode": {
    "name": "ipython",
    "version": 3
   },
   "file_extension": ".py",
   "mimetype": "text/x-python",
   "name": "python",
   "nbconvert_exporter": "python",
   "pygments_lexer": "ipython3",
   "version": "3.7.4"
  }
 },
 "nbformat": 4,
 "nbformat_minor": 5
}
